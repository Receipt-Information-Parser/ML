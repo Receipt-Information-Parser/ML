{
 "cells": [
  {
   "cell_type": "code",
   "execution_count": 1,
   "metadata": {},
   "outputs": [],
   "source": [
    "from PIL import Image\n",
    "import pandas as pd\n",
    "import os\n",
    "import io\n",
    "from preprocess import Preprocess\n",
    "from train import Train\n",
    "from predict import Predict"
   ]
  },
  {
   "cell_type": "code",
   "execution_count": 2,
   "metadata": {},
   "outputs": [],
   "source": [
    "#this will be input parameter\n",
    "data_path='/home/guest/ML/dataset'\n",
    "preprocesser=Preprocess(data_path)\n",
    "\n",
    "\n"
   ]
  },
  {
   "cell_type": "code",
   "execution_count": 3,
   "metadata": {},
   "outputs": [
    {
     "name": "stdout",
     "output_type": "stream",
     "text": [
      "preprocessing is over\n"
     ]
    }
   ],
   "source": [
    "preprocesser.do_preprocess()"
   ]
  },
  {
   "cell_type": "code",
   "execution_count": null,
   "metadata": {},
   "outputs": [],
   "source": [
    "trainer=Train(30)\n",
    "trainer.train()"
   ]
  },
  {
   "cell_type": "code",
   "execution_count": 2,
   "metadata": {},
   "outputs": [
    {
     "name": "stdout",
     "output_type": "stream",
     "text": [
      "train12.jpeg\n",
      "output is : \n",
      " {'others': ['영수증 (01-00099번) 2023년03월21일 20: 15: 53 NO:00099 픽미픽미아이스 단국대점', '송인용(5870102837) T: 01082304310 경기 용인시 수지구 죽전로144번길 11-3 ,1층 102호(죽전동)', '판매금액', '부가세', '합계', '* 찾아주셔서 감사합니다.'], 'key': ['대표:', '하나카드', '승인금액', '거래일시', '카드번호', '매입사', '승인번호'], 'value': ['신용승인', '2023/03/21 20:15 00 개월', '532092**********', '하나카드', '07644503'], 'total': [], 'column_name': ['상품 수량 금액'], 'item': ['파워캡 레드피치', '서주 아이스쿨 모히또'], 'count': ['1', '1'], 'money': ['800', '2,000', '2,545', '255', '2,800', '2,800']}\n",
      "excetion occurred: list index out of range\n",
      "max_length 6\n",
      "new_dict {'item': ['파워캡 레드피치', '서주 아이스쿨 모히또', '', '', '', ''], 'count': ['1', '1', '', '', '', ''], 'money': ['800', '2,000', '2,545', '255', '2,800', '2,800']}\n",
      "            품목 수량    금액\n",
      "0     파워캡 레드피치  1   800\n",
      "1  서주 아이스쿨 모히또  1  2000\n",
      "2                  2545\n",
      "3                   255\n",
      "4                  2800\n",
      "5                  2800\n",
      "output_dict {'others': ['영수증 (01-00099번) 2023년03월21일 20: 15: 53 NO:00099 픽미픽미아이스 단국대점', '송인용(5870102837) T: 01082304310 경기 용인시 수지구 죽전로144번길 11-3 ,1층 102호(죽전동)', '판매금액', '부가세', '합계', '* 찾아주셔서 감사합니다.'], 'key': ['대표:', '하나카드', '승인금액', '거래일시', '카드번호', '매입사', '승인번호'], 'value': ['신용승인', '2023/03/21 20:15 00 개월', '532092**********', '하나카드', '07644503'], 'total': [], 'column_name': ['상품 수량 금액'], 'item': ['파워캡 레드피치', '서주 아이스쿨 모히또', '', '', '', ''], 'count': ['1', '1', '', '', '', ''], 'money': [800, 2000, 2545, 255, 2800, 2800], 'csv': []}\n",
      "new_notnull_df             품목 수량    금액\n",
      "0     파워캡 레드피치  1   800\n",
      "1  서주 아이스쿨 모히또  1  2000\n",
      "2                  2545\n",
      "3                   255\n",
      "4                  2800\n",
      "5                  2800\n"
     ]
    },
    {
     "name": "stderr",
     "output_type": "stream",
     "text": [
      "/usr/anaconda3/envs/cloudcomputing/lib/python3.10/site-packages/transformers/modeling_utils.py:763: FutureWarning: The `device` argument is deprecated and will be removed in v5 of Transformers.\n",
      "  warnings.warn(\n"
     ]
    },
    {
     "data": {
      "text/plain": [
       "{'others': ['영수증 (01-00099번) 2023년03월21일 20: 15: 53 NO:00099 픽미픽미아이스 단국대점',\n",
       "  '송인용(5870102837) T: 01082304310 경기 용인시 수지구 죽전로144번길 11-3 ,1층 102호(죽전동)',\n",
       "  '판매금액',\n",
       "  '부가세',\n",
       "  '합계',\n",
       "  '* 찾아주셔서 감사합니다.'],\n",
       " 'key': ['대표:', '하나카드', '승인금액', '거래일시', '카드번호', '매입사', '승인번호'],\n",
       " 'value': ['신용승인',\n",
       "  '2023/03/21 20:15 00 개월',\n",
       "  '532092**********',\n",
       "  '하나카드',\n",
       "  '07644503'],\n",
       " 'total': 11200,\n",
       " 'column_name': ['상품 수량 금액'],\n",
       " 'item': ['파워캡 레드피치', '서주 아이스쿨 모히또', '', '', '', ''],\n",
       " 'count': ['1', '1', '', '', '', ''],\n",
       " 'money': [800, 2000, 2545, 255, 2800, 2800],\n",
       " 'csv': '품목,수량,금액\\n파워캡 레드피치,1,800\\n서주 아이스쿨 모히또,1,2000\\n,,2545\\n,,255\\n,,2800\\n,,2800\\n'}"
      ]
     },
     "execution_count": 2,
     "metadata": {},
     "output_type": "execute_result"
    }
   ],
   "source": [
    "image_name='train12.jpeg'\n",
    "model_name='layoutlmv3'\n",
    "print(image_name)\n",
    "\n",
    "\n",
    "image_path=os.path.join('/home/guest/ML/dataset/train_data_image',image_name)\n",
    "model_path=os.path.join('/home/guest/ML/code/',model_name)\n",
    "\n",
    "\n",
    "img=Image.open(image_path).convert('RGB')\n",
    "\n",
    "predicter = Predict(model_path,img)\n",
    "\n",
    "\n",
    "\n",
    "preprocess_data=predicter.predict_preprocess()\n",
    "box,predict,text=predicter.predict(preprocess_data) \n",
    "\n",
    "output=predicter.predict2output(box,predict,text)\n",
    "output"
   ]
  },
  {
   "cell_type": "code",
   "execution_count": 4,
   "metadata": {},
   "outputs": [
    {
     "data": {
      "text/html": [
       "<div>\n",
       "<style scoped>\n",
       "    .dataframe tbody tr th:only-of-type {\n",
       "        vertical-align: middle;\n",
       "    }\n",
       "\n",
       "    .dataframe tbody tr th {\n",
       "        vertical-align: top;\n",
       "    }\n",
       "\n",
       "    .dataframe thead th {\n",
       "        text-align: right;\n",
       "    }\n",
       "</style>\n",
       "<table border=\"1\" class=\"dataframe\">\n",
       "  <thead>\n",
       "    <tr style=\"text-align: right;\">\n",
       "      <th></th>\n",
       "      <th>품목</th>\n",
       "      <th>수량</th>\n",
       "      <th>금액</th>\n",
       "    </tr>\n",
       "  </thead>\n",
       "  <tbody>\n",
       "    <tr>\n",
       "      <th>0</th>\n",
       "      <td>파워캡 레드피치</td>\n",
       "      <td>1.0</td>\n",
       "      <td>800</td>\n",
       "    </tr>\n",
       "    <tr>\n",
       "      <th>1</th>\n",
       "      <td>서주 아이스쿨 모히또</td>\n",
       "      <td>1.0</td>\n",
       "      <td>2000</td>\n",
       "    </tr>\n",
       "    <tr>\n",
       "      <th>2</th>\n",
       "      <td>NaN</td>\n",
       "      <td>NaN</td>\n",
       "      <td>2545</td>\n",
       "    </tr>\n",
       "    <tr>\n",
       "      <th>3</th>\n",
       "      <td>NaN</td>\n",
       "      <td>NaN</td>\n",
       "      <td>255</td>\n",
       "    </tr>\n",
       "    <tr>\n",
       "      <th>4</th>\n",
       "      <td>NaN</td>\n",
       "      <td>NaN</td>\n",
       "      <td>2800</td>\n",
       "    </tr>\n",
       "    <tr>\n",
       "      <th>5</th>\n",
       "      <td>NaN</td>\n",
       "      <td>NaN</td>\n",
       "      <td>2800</td>\n",
       "    </tr>\n",
       "  </tbody>\n",
       "</table>\n",
       "</div>"
      ],
      "text/plain": [
       "            품목   수량    금액\n",
       "0     파워캡 레드피치  1.0   800\n",
       "1  서주 아이스쿨 모히또  1.0  2000\n",
       "2          NaN  NaN  2545\n",
       "3          NaN  NaN   255\n",
       "4          NaN  NaN  2800\n",
       "5          NaN  NaN  2800"
      ]
     },
     "execution_count": 4,
     "metadata": {},
     "output_type": "execute_result"
    }
   ],
   "source": [
    "df=pd.read_csv(io.StringIO(output['csv']), sep=',')\n",
    "df"
   ]
  },
  {
   "cell_type": "code",
   "execution_count": null,
   "metadata": {},
   "outputs": [],
   "source": []
  }
 ],
 "metadata": {
  "colab": {
   "provenance": []
  },
  "kernelspec": {
   "display_name": "Python 3 (ipykernel)",
   "language": "python",
   "name": "python3"
  },
  "language_info": {
   "codemirror_mode": {
    "name": "ipython",
    "version": 3
   },
   "file_extension": ".py",
   "mimetype": "text/x-python",
   "name": "python",
   "nbconvert_exporter": "python",
   "pygments_lexer": "ipython3",
   "version": "3.10.10"
  }
 },
 "nbformat": 4,
 "nbformat_minor": 1
}
