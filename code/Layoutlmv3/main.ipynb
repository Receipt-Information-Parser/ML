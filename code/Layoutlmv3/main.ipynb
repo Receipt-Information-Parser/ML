{
 "cells": [
  {
   "cell_type": "code",
   "execution_count": 1,
   "metadata": {},
   "outputs": [],
   "source": [
    "from PIL import Image\n",
    "import pandas as pd\n",
    "import os\n",
    "from preprocess import Preprocess\n",
    "from train import Train\n",
    "from predict import Predict"
   ]
  },
  {
   "cell_type": "code",
   "execution_count": 2,
   "metadata": {},
   "outputs": [],
   "source": [
    "#this will be input parameter\n",
    "data_path='/home/guest/ML/dataset'\n",
    "preprocesser=Preprocess(data_path)\n",
    "\n",
    "\n"
   ]
  },
  {
   "cell_type": "code",
   "execution_count": 3,
   "metadata": {},
   "outputs": [
    {
     "name": "stdout",
     "output_type": "stream",
     "text": [
      "preprocessing is over\n"
     ]
    }
   ],
   "source": [
    "preprocesser.do_preprocess()"
   ]
  },
  {
   "cell_type": "code",
   "execution_count": 4,
   "metadata": {},
   "outputs": [
    {
     "name": "stderr",
     "output_type": "stream",
     "text": [
      "Some weights of LayoutLMv3ForTokenClassification were not initialized from the model checkpoint at microsoft/layoutlmv3-base and are newly initialized: ['classifier.bias', 'classifier.weight']\n",
      "You should probably TRAIN this model on a down-stream task to be able to use it for predictions and inference.\n"
     ]
    },
    {
     "name": "stdout",
     "output_type": "stream",
     "text": [
      "Downloading and preparing dataset csv/default to /home/guest/.cache/huggingface/datasets/csv/default-9cce61b6a4db9e85/0.0.0/6b34fb8fcf56f7c8ba51dc895bfa2bfbe43546f190a60fcf74bb5e8afdcc2317...\n"
     ]
    },
    {
     "data": {
      "application/vnd.jupyter.widget-view+json": {
       "model_id": "8a049bbb74184849a5fe7daf7ef7d8cf",
       "version_major": 2,
       "version_minor": 0
      },
      "text/plain": [
       "Downloading data files:   0%|          | 0/1 [00:00<?, ?it/s]"
      ]
     },
     "metadata": {},
     "output_type": "display_data"
    },
    {
     "data": {
      "application/vnd.jupyter.widget-view+json": {
       "model_id": "8aa4c6cfdbbc4f4fbe0e4534a85143e7",
       "version_major": 2,
       "version_minor": 0
      },
      "text/plain": [
       "Extracting data files:   0%|          | 0/1 [00:00<?, ?it/s]"
      ]
     },
     "metadata": {},
     "output_type": "display_data"
    },
    {
     "data": {
      "application/vnd.jupyter.widget-view+json": {
       "model_id": "e58c253fb9b04509b555296e61104ae2",
       "version_major": 2,
       "version_minor": 0
      },
      "text/plain": [
       "Generating train split: 0 examples [00:00, ? examples/s]"
      ]
     },
     "metadata": {},
     "output_type": "display_data"
    },
    {
     "name": "stdout",
     "output_type": "stream",
     "text": [
      "Dataset csv downloaded and prepared to /home/guest/.cache/huggingface/datasets/csv/default-9cce61b6a4db9e85/0.0.0/6b34fb8fcf56f7c8ba51dc895bfa2bfbe43546f190a60fcf74bb5e8afdcc2317. Subsequent calls will reuse this data.\n"
     ]
    },
    {
     "name": "stderr",
     "output_type": "stream",
     "text": [
      "/usr/anaconda3/envs/cloudcomputing/lib/python3.10/site-packages/datasets/download/streaming_download_manager.py:776: FutureWarning: the 'mangle_dupe_cols' keyword is deprecated and will be removed in a future version. Please take steps to stop the use of 'mangle_dupe_cols'\n",
      "  return pd.read_csv(xopen(filepath_or_buffer, \"rb\", use_auth_token=use_auth_token), **kwargs)\n"
     ]
    },
    {
     "data": {
      "application/vnd.jupyter.widget-view+json": {
       "model_id": "a98a30a4829e49baaba97745268dcaff",
       "version_major": 2,
       "version_minor": 0
      },
      "text/plain": [
       "Saving the dataset (0/1 shards):   0%|          | 0/65 [00:00<?, ? examples/s]"
      ]
     },
     "metadata": {},
     "output_type": "display_data"
    },
    {
     "data": {
      "application/vnd.jupyter.widget-view+json": {
       "model_id": "624849dbe41b405f96783577696eb5e4",
       "version_major": 2,
       "version_minor": 0
      },
      "text/plain": [
       "Map:   0%|          | 0/65 [00:00<?, ? examples/s]"
      ]
     },
     "metadata": {},
     "output_type": "display_data"
    },
    {
     "name": "stdout",
     "output_type": "stream",
     "text": [
      "train batch size 65\n",
      "train batch size: 65\n",
      "Epoch: 0\n"
     ]
    },
    {
     "name": "stderr",
     "output_type": "stream",
     "text": [
      "/usr/anaconda3/envs/cloudcomputing/lib/python3.10/site-packages/transformers/optimization.py:306: FutureWarning: This implementation of AdamW is deprecated and will be removed in a future version. Use the PyTorch implementation torch.optim.AdamW instead, or set `no_deprecation_warning=True` to disable this warning\n",
      "  warnings.warn(\n"
     ]
    },
    {
     "data": {
      "application/vnd.jupyter.widget-view+json": {
       "model_id": "4562d6dc8eb54269aecd6ba5b5ec5b6c",
       "version_major": 2,
       "version_minor": 0
      },
      "text/plain": [
       "  0%|          | 0/1 [00:00<?, ?it/s]"
      ]
     },
     "metadata": {},
     "output_type": "display_data"
    },
    {
     "name": "stderr",
     "output_type": "stream",
     "text": [
      "/usr/anaconda3/envs/cloudcomputing/lib/python3.10/site-packages/transformers/modeling_utils.py:763: FutureWarning: The `device` argument is deprecated and will be removed in v5 of Transformers.\n",
      "  warnings.warn(\n"
     ]
    },
    {
     "name": "stdout",
     "output_type": "stream",
     "text": [
      "Loss after 0 steps: 2.2547178268432617\n"
     ]
    }
   ],
   "source": [
    "trainer=Train()\n",
    "trainer.train()"
   ]
  },
  {
   "cell_type": "code",
   "execution_count": 3,
   "metadata": {},
   "outputs": [
    {
     "name": "stdout",
     "output_type": "stream",
     "text": [
      "{'version': 'V2', 'requestId': '465ea140-084c-46d9-9b15-6b86c09fb172', 'timestamp': 1684662885544, 'images': [{'uid': '3834334013c442309de5bef900c5cc61', 'name': 'demo', 'inferResult': 'SUCCESS', 'message': 'SUCCESS', 'validationResult': {'result': 'NO_REQUESTED'}, 'convertedImageInfo': {'width': 814, 'height': 1385, 'pageIndex': 0, 'longImage': False}, 'fields': [{'valueType': 'ALL', 'boundingPoly': {'vertices': [{'x': 21.0, 'y': 90.0}, {'x': 61.0, 'y': 90.0}, {'x': 61.0, 'y': 100.0}, {'x': 21.0, 'y': 100.0}]}, 'inferText': 'others', 'inferConfidence': 0.9966, 'type': 'NORMAL', 'lineBreak': True}, {'valueType': 'ALL', 'boundingPoly': {'vertices': [{'x': 12.0, 'y': 100.0}, {'x': 282.0, 'y': 100.0}, {'x': 282.0, 'y': 184.0}, {'x': 12.0, 'y': 184.0}]}, 'inferText': '주문번호', 'inferConfidence': 1.0, 'type': 'NORMAL', 'lineBreak': False}, {'valueType': 'ALL', 'boundingPoly': {'vertices': [{'x': 308.0, 'y': 120.0}, {'x': 333.0, 'y': 120.0}, {'x': 333.0, 'y': 161.0}, {'x': 308.0, 'y': 161.0}]}, 'inferText': ':', 'inferConfidence': 0.9984, 'type': 'NORMAL', 'lineBreak': False}, {'valueType': 'ALL', 'boundingPoly': {'vertices': [{'x': 350.0, 'y': 99.0}, {'x': 505.0, 'y': 99.0}, {'x': 505.0, 'y': 183.0}, {'x': 350.0, 'y': 183.0}]}, 'inferText': '0063', 'inferConfidence': 1.0, 'type': 'NORMAL', 'lineBreak': True}, {'valueType': 'ALL', 'boundingPoly': {'vertices': [{'x': 22.0, 'y': 272.0}, {'x': 123.0, 'y': 270.0}, {'x': 124.0, 'y': 310.0}, {'x': 23.0, 'y': 312.0}]}, 'inferText': '점 포', 'inferConfidence': 0.9972, 'type': 'NORMAL', 'lineBreak': False}, {'valueType': 'ALL', 'boundingPoly': {'vertices': [{'x': 160.0, 'y': 270.0}, {'x': 229.0, 'y': 270.0}, {'x': 229.0, 'y': 308.0}, {'x': 160.0, 'y': 308.0}]}, 'inferText': '명 :', 'inferConfidence': 0.8777, 'type': 'NORMAL', 'lineBreak': False}, {'valueType': 'ALL', 'boundingPoly': {'vertices': [{'x': 235.0, 'y': 265.0}, {'x': 307.0, 'y': 265.0}, {'x': 307.0, 'y': 309.0}, {'x': 235.0, 'y': 309.0}]}, 'inferText': '쥬씨', 'inferConfidence': 0.9999, 'type': 'NORMAL', 'lineBreak': False}, {'valueType': 'ALL', 'boundingPoly': {'vertices': [{'x': 314.0, 'y': 264.0}, {'x': 508.0, 'y': 262.0}, {'x': 509.0, 'y': 306.0}, {'x': 314.0, 'y': 309.0}]}, 'inferText': '죽전단국대점', 'inferConfidence': 0.9992, 'type': 'NORMAL', 'lineBreak': True}, {'valueType': 'ALL', 'boundingPoly': {'vertices': [{'x': 22.0, 'y': 314.0}, {'x': 61.0, 'y': 314.0}, {'x': 61.0, 'y': 355.0}, {'x': 22.0, 'y': 355.0}]}, 'inferText': '주', 'inferConfidence': 1.0, 'type': 'NORMAL', 'lineBreak': False}, {'valueType': 'ALL', 'boundingPoly': {'vertices': [{'x': 161.0, 'y': 313.0}, {'x': 202.0, 'y': 313.0}, {'x': 202.0, 'y': 352.0}, {'x': 161.0, 'y': 352.0}]}, 'inferText': '소', 'inferConfidence': 1.0, 'type': 'NORMAL', 'lineBreak': False}, {'valueType': 'ALL', 'boundingPoly': {'vertices': [{'x': 210.0, 'y': 322.0}, {'x': 226.0, 'y': 322.0}, {'x': 226.0, 'y': 343.0}, {'x': 210.0, 'y': 343.0}]}, 'inferText': ':', 'inferConfidence': 0.9996, 'type': 'NORMAL', 'lineBreak': False}, {'valueType': 'ALL', 'boundingPoly': {'vertices': [{'x': 237.0, 'y': 308.0}, {'x': 339.0, 'y': 308.0}, {'x': 339.0, 'y': 352.0}, {'x': 237.0, 'y': 352.0}]}, 'inferText': '경기도', 'inferConfidence': 1.0, 'type': 'NORMAL', 'lineBreak': False}, {'valueType': 'ALL', 'boundingPoly': {'vertices': [{'x': 345.0, 'y': 305.0}, {'x': 446.0, 'y': 305.0}, {'x': 446.0, 'y': 350.0}, {'x': 345.0, 'y': 350.0}]}, 'inferText': '용인시', 'inferConfidence': 0.9999, 'type': 'NORMAL', 'lineBreak': False}, {'valueType': 'ALL', 'boundingPoly': {'vertices': [{'x': 455.0, 'y': 304.0}, {'x': 556.0, 'y': 304.0}, {'x': 556.0, 'y': 347.0}, {'x': 455.0, 'y': 347.0}]}, 'inferText': '수지구', 'inferConfidence': 1.0, 'type': 'NORMAL', 'lineBreak': False}, {'valueType': 'ALL', 'boundingPoly': {'vertices': [{'x': 564.0, 'y': 304.0}, {'x': 668.0, 'y': 304.0}, {'x': 668.0, 'y': 347.0}, {'x': 564.0, 'y': 347.0}]}, 'inferText': '죽전로', 'inferConfidence': 0.9999, 'type': 'NORMAL', 'lineBreak': False}, {'valueType': 'ALL', 'boundingPoly': {'vertices': [{'x': 676.0, 'y': 306.0}, {'x': 762.0, 'y': 304.0}, {'x': 763.0, 'y': 343.0}, {'x': 677.0, 'y': 345.0}]}, 'inferText': '152-1', 'inferConfidence': 1.0, 'type': 'NORMAL', 'lineBreak': True}, {'valueType': 'ALL', 'boundingPoly': {'vertices': [{'x': 19.0, 'y': 356.0}, {'x': 123.0, 'y': 354.0}, {'x': 124.0, 'y': 400.0}, {'x': 20.0, 'y': 402.0}]}, 'inferText': '사업자', 'inferConfidence': 1.0, 'type': 'NORMAL', 'lineBreak': False}, {'valueType': 'ALL', 'boundingPoly': {'vertices': [{'x': 130.0, 'y': 356.0}, {'x': 230.0, 'y': 356.0}, {'x': 230.0, 'y': 396.0}, {'x': 130.0, 'y': 396.0}]}, 'inferText': '번호 :', 'inferConfidence': 0.8858, 'type': 'NORMAL', 'lineBreak': False}, {'valueType': 'ALL', 'boundingPoly': {'vertices': [{'x': 235.0, 'y': 351.0}, {'x': 435.0, 'y': 349.0}, {'x': 436.0, 'y': 392.0}, {'x': 235.0, 'y': 394.0}]}, 'inferText': '838-17-00489', 'inferConfidence': 0.9998, 'type': 'NORMAL', 'lineBreak': True}, {'valueType': 'ALL', 'boundingPoly': {'vertices': [{'x': 21.0, 'y': 401.0}, {'x': 229.0, 'y': 395.0}, {'x': 230.0, 'y': 438.0}, {'x': 23.0, 'y': 444.0}]}, 'inferText': '대표자명:', 'inferConfidence': 0.9192, 'type': 'NORMAL', 'lineBreak': False}, {'valueType': 'ALL', 'boundingPoly': {'vertices': [{'x': 236.0, 'y': 395.0}, {'x': 336.0, 'y': 393.0}, {'x': 337.0, 'y': 438.0}, {'x': 236.0, 'y': 440.0}]}, 'inferText': '최형인', 'inferConfidence': 0.9997, 'type': 'NORMAL', 'lineBreak': True}, {'valueType': 'ALL', 'boundingPoly': {'vertices': [{'x': 23.0, 'y': 444.0}, {'x': 229.0, 'y': 439.0}, {'x': 230.0, 'y': 481.0}, {'x': 24.0, 'y': 487.0}]}, 'inferText': '전화번호:', 'inferConfidence': 0.9415, 'type': 'NORMAL', 'lineBreak': False}, {'valueType': 'ALL', 'boundingPoly': {'vertices': [{'x': 234.0, 'y': 438.0}, {'x': 435.0, 'y': 435.0}, {'x': 436.0, 'y': 477.0}, {'x': 235.0, 'y': 480.0}]}, 'inferText': '031-262-2770', 'inferConfidence': 0.9998, 'type': 'NORMAL', 'lineBreak': True}, {'valueType': 'ALL', 'boundingPoly': {'vertices': [{'x': 22.0, 'y': 527.0}, {'x': 229.0, 'y': 523.0}, {'x': 229.0, 'y': 567.0}, {'x': 22.0, 'y': 571.0}]}, 'inferText': '카드종류:', 'inferConfidence': 0.9341, 'type': 'NORMAL', 'lineBreak': False}, {'valueType': 'ALL', 'boundingPoly': {'vertices': [{'x': 233.0, 'y': 522.0}, {'x': 400.0, 'y': 519.0}, {'x': 401.0, 'y': 566.0}, {'x': 234.0, 'y': 569.0}]}, 'inferText': '카카오뱅크', 'inferConfidence': 0.9999, 'type': 'NORMAL', 'lineBreak': True}, {'valueType': 'ALL', 'boundingPoly': {'vertices': [{'x': 20.0, 'y': 571.0}, {'x': 229.0, 'y': 567.0}, {'x': 229.0, 'y': 610.0}, {'x': 21.0, 'y': 614.0}]}, 'inferText': '카드번호:', 'inferConfidence': 0.9491, 'type': 'NORMAL', 'lineBreak': False}, {'valueType': 'ALL', 'boundingPoly': {'vertices': [{'x': 236.0, 'y': 569.0}, {'x': 492.0, 'y': 569.0}, {'x': 492.0, 'y': 606.0}, {'x': 236.0, 'y': 606.0}]}, 'inferText': '536510**********', 'inferConfidence': 0.9998, 'type': 'NORMAL', 'lineBreak': True}, {'valueType': 'ALL', 'boundingPoly': {'vertices': [{'x': 19.0, 'y': 614.0}, {'x': 201.0, 'y': 611.0}, {'x': 202.0, 'y': 654.0}, {'x': 20.0, 'y': 657.0}]}, 'inferText': '승인번호', 'inferConfidence': 0.9982, 'type': 'NORMAL', 'lineBreak': False}, {'valueType': 'ALL', 'boundingPoly': {'vertices': [{'x': 209.0, 'y': 622.0}, {'x': 225.0, 'y': 622.0}, {'x': 225.0, 'y': 642.0}, {'x': 209.0, 'y': 642.0}]}, 'inferText': ':', 'inferConfidence': 0.9995, 'type': 'NORMAL', 'lineBreak': False}, {'valueType': 'ALL', 'boundingPoly': {'vertices': [{'x': 234.0, 'y': 610.0}, {'x': 372.0, 'y': 610.0}, {'x': 372.0, 'y': 650.0}, {'x': 234.0, 'y': 650.0}]}, 'inferText': '25142147', 'inferConfidence': 0.9998, 'type': 'NORMAL', 'lineBreak': True}, {'valueType': 'ALL', 'boundingPoly': {'vertices': [{'x': 19.0, 'y': 657.0}, {'x': 201.0, 'y': 652.0}, {'x': 202.0, 'y': 696.0}, {'x': 20.0, 'y': 701.0}]}, 'inferText': '할부기간', 'inferConfidence': 0.998, 'type': 'NORMAL', 'lineBreak': False}, {'valueType': 'ALL', 'boundingPoly': {'vertices': [{'x': 209.0, 'y': 664.0}, {'x': 225.0, 'y': 664.0}, {'x': 225.0, 'y': 685.0}, {'x': 209.0, 'y': 685.0}]}, 'inferText': ':', 'inferConfidence': 0.9919, 'type': 'NORMAL', 'lineBreak': False}, {'valueType': 'ALL', 'boundingPoly': {'vertices': [{'x': 236.0, 'y': 652.0}, {'x': 338.0, 'y': 652.0}, {'x': 338.0, 'y': 695.0}, {'x': 236.0, 'y': 695.0}]}, 'inferText': '일시불', 'inferConfidence': 1.0, 'type': 'NORMAL', 'lineBreak': True}, {'valueType': 'ALL', 'boundingPoly': {'vertices': [{'x': 10.0, 'y': 694.0}, {'x': 251.0, 'y': 691.0}, {'x': 252.0, 'y': 775.0}, {'x': 11.0, 'y': 779.0}]}, 'inferText': '[신용카드승인]', 'inferConfidence': 0.9999, 'type': 'NORMAL', 'lineBreak': True}, {'valueType': 'ALL', 'boundingPoly': {'vertices': [{'x': 49.0, 'y': 816.0}, {'x': 89.0, 'y': 816.0}, {'x': 89.0, 'y': 859.0}, {'x': 49.0, 'y': 859.0}]}, 'inferText': '품', 'inferConfidence': 0.9996, 'type': 'NORMAL', 'lineBreak': False}, {'valueType': 'ALL', 'boundingPoly': {'vertices': [{'x': 142.0, 'y': 815.0}, {'x': 179.0, 'y': 815.0}, {'x': 179.0, 'y': 856.0}, {'x': 142.0, 'y': 856.0}]}, 'inferText': '명', 'inferConfidence': 0.9999, 'type': 'NORMAL', 'lineBreak': False}, {'valueType': 'ALL', 'boundingPoly': {'vertices': [{'x': 469.0, 'y': 811.0}, {'x': 512.0, 'y': 811.0}, {'x': 512.0, 'y': 853.0}, {'x': 469.0, 'y': 853.0}]}, 'inferText': '수', 'inferConfidence': 1.0, 'type': 'NORMAL', 'lineBreak': False}, {'valueType': 'ALL', 'boundingPoly': {'vertices': [{'x': 532.0, 'y': 810.0}, {'x': 573.0, 'y': 810.0}, {'x': 573.0, 'y': 853.0}, {'x': 532.0, 'y': 853.0}]}, 'inferText': '량', 'inferConfidence': 1.0, 'type': 'NORMAL', 'lineBreak': False}, {'valueType': 'ALL', 'boundingPoly': {'vertices': [{'x': 642.0, 'y': 809.0}, {'x': 685.0, 'y': 809.0}, {'x': 685.0, 'y': 853.0}, {'x': 642.0, 'y': 853.0}]}, 'inferText': '금', 'inferConfidence': 1.0, 'type': 'NORMAL', 'lineBreak': False}, {'valueType': 'ALL', 'boundingPoly': {'vertices': [{'x': 706.0, 'y': 810.0}, {'x': 746.0, 'y': 810.0}, {'x': 746.0, 'y': 853.0}, {'x': 706.0, 'y': 853.0}]}, 'inferText': '액', 'inferConfidence': 0.9999, 'type': 'NORMAL', 'lineBreak': True}, {'valueType': 'ALL', 'boundingPoly': {'vertices': [{'x': 19.0, 'y': 901.0}, {'x': 242.0, 'y': 901.0}, {'x': 242.0, 'y': 944.0}, {'x': 19.0, 'y': 944.0}]}, 'inferText': 'Ice)아메리카노', 'inferConfidence': 0.9974, 'type': 'NORMAL', 'lineBreak': False}, {'valueType': 'ALL', 'boundingPoly': {'vertices': [{'x': 552.0, 'y': 903.0}, {'x': 573.0, 'y': 903.0}, {'x': 573.0, 'y': 939.0}, {'x': 552.0, 'y': 939.0}]}, 'inferText': '1', 'inferConfidence': 1.0, 'type': 'NORMAL', 'lineBreak': False}, {'valueType': 'ALL', 'boundingPoly': {'vertices': [{'x': 659.0, 'y': 898.0}, {'x': 749.0, 'y': 898.0}, {'x': 749.0, 'y': 941.0}, {'x': 659.0, 'y': 941.0}]}, 'inferText': '1,200', 'inferConfidence': 0.9993, 'type': 'NORMAL', 'lineBreak': True}, {'valueType': 'ALL', 'boundingPoly': {'vertices': [{'x': 20.0, 'y': 947.0}, {'x': 137.0, 'y': 947.0}, {'x': 137.0, 'y': 986.0}, {'x': 20.0, 'y': 986.0}]}, 'inferText': '(Size)M', 'inferConfidence': 0.9937, 'type': 'NORMAL', 'lineBreak': False}, {'valueType': 'ALL', 'boundingPoly': {'vertices': [{'x': 722.0, 'y': 944.0}, {'x': 747.0, 'y': 944.0}, {'x': 747.0, 'y': 979.0}, {'x': 722.0, 'y': 979.0}]}, 'inferText': '0', 'inferConfidence': 0.9996, 'type': 'NORMAL', 'lineBreak': True}, {'valueType': 'ALL', 'boundingPoly': {'vertices': [{'x': 17.0, 'y': 989.0}, {'x': 58.0, 'y': 989.0}, {'x': 58.0, 'y': 1031.0}, {'x': 17.0, 'y': 1031.0}]}, 'inferText': '총', 'inferConfidence': 0.9682, 'type': 'NORMAL', 'lineBreak': False}, {'valueType': 'ALL', 'boundingPoly': {'vertices': [{'x': 219.0, 'y': 987.0}, {'x': 262.0, 'y': 987.0}, {'x': 262.0, 'y': 1030.0}, {'x': 219.0, 'y': 1030.0}]}, 'inferText': '액', 'inferConfidence': 1.0, 'type': 'NORMAL', 'lineBreak': False}, {'valueType': 'ALL', 'boundingPoly': {'vertices': [{'x': 270.0, 'y': 998.0}, {'x': 286.0, 'y': 998.0}, {'x': 286.0, 'y': 1019.0}, {'x': 270.0, 'y': 1019.0}]}, 'inferText': ':', 'inferConfidence': 0.9996, 'type': 'NORMAL', 'lineBreak': False}, {'valueType': 'ALL', 'boundingPoly': {'vertices': [{'x': 555.0, 'y': 987.0}, {'x': 744.0, 'y': 983.0}, {'x': 745.0, 'y': 1029.0}, {'x': 555.0, 'y': 1032.0}]}, 'inferText': '1,200원', 'inferConfidence': 0.9918, 'type': 'NORMAL', 'lineBreak': True}, {'valueType': 'ALL', 'boundingPoly': {'vertices': [{'x': 20.0, 'y': 1072.0}, {'x': 228.0, 'y': 1072.0}, {'x': 228.0, 'y': 1115.0}, {'x': 20.0, 'y': 1115.0}]}, 'inferText': '결제일시:', 'inferConfidence': 0.9283, 'type': 'NORMAL', 'lineBreak': False}, {'valueType': 'ALL', 'boundingPoly': {'vertices': [{'x': 232.0, 'y': 1072.0}, {'x': 403.0, 'y': 1072.0}, {'x': 403.0, 'y': 1115.0}, {'x': 232.0, 'y': 1115.0}]}, 'inferText': '2023-03-17', 'inferConfidence': 1.0, 'type': 'NORMAL', 'lineBreak': False}, {'valueType': 'ALL', 'boundingPoly': {'vertices': [{'x': 409.0, 'y': 1076.0}, {'x': 460.0, 'y': 1076.0}, {'x': 460.0, 'y': 1114.0}, {'x': 409.0, 'y': 1114.0}]}, 'inferText': '12:', 'inferConfidence': 1.0, 'type': 'NORMAL', 'lineBreak': False}, {'valueType': 'ALL', 'boundingPoly': {'vertices': [{'x': 454.0, 'y': 1075.0}, {'x': 507.0, 'y': 1075.0}, {'x': 507.0, 'y': 1114.0}, {'x': 454.0, 'y': 1114.0}]}, 'inferText': '36:', 'inferConfidence': 0.9999, 'type': 'NORMAL', 'lineBreak': False}, {'valueType': 'ALL', 'boundingPoly': {'vertices': [{'x': 500.0, 'y': 1072.0}, {'x': 545.0, 'y': 1072.0}, {'x': 545.0, 'y': 1115.0}, {'x': 500.0, 'y': 1115.0}]}, 'inferText': '35', 'inferConfidence': 1.0, 'type': 'NORMAL', 'lineBreak': True}, {'valueType': 'ALL', 'boundingPoly': {'vertices': [{'x': 19.0, 'y': 1157.0}, {'x': 121.0, 'y': 1157.0}, {'x': 121.0, 'y': 1201.0}, {'x': 19.0, 'y': 1201.0}]}, 'inferText': '영수증', 'inferConfidence': 1.0, 'type': 'NORMAL', 'lineBreak': False}, {'valueType': 'ALL', 'boundingPoly': {'vertices': [{'x': 127.0, 'y': 1159.0}, {'x': 228.0, 'y': 1159.0}, {'x': 228.0, 'y': 1200.0}, {'x': 127.0, 'y': 1200.0}]}, 'inferText': '번호 :', 'inferConfidence': 0.907, 'type': 'NORMAL', 'lineBreak': False}, {'valueType': 'ALL', 'boundingPoly': {'vertices': [{'x': 232.0, 'y': 1159.0}, {'x': 432.0, 'y': 1159.0}, {'x': 432.0, 'y': 1201.0}, {'x': 232.0, 'y': 1201.0}]}, 'inferText': '2303170063-1', 'inferConfidence': 0.9998, 'type': 'NORMAL', 'lineBreak': True}, {'valueType': 'ALL', 'boundingPoly': {'vertices': [{'x': 16.0, 'y': 1243.0}, {'x': 256.0, 'y': 1243.0}, {'x': 256.0, 'y': 1285.0}, {'x': 16.0, 'y': 1285.0}]}, 'inferText': '<무인결제솔루션', 'inferConfidence': 0.9999, 'type': 'NORMAL', 'lineBreak': False}, {'valueType': 'ALL', 'boundingPoly': {'vertices': [{'x': 266.0, 'y': 1244.0}, {'x': 335.0, 'y': 1244.0}, {'x': 335.0, 'y': 1286.0}, {'x': 266.0, 'y': 1286.0}]}, 'inferText': '문의', 'inferConfidence': 1.0, 'type': 'NORMAL', 'lineBreak': False}, {'valueType': 'ALL', 'boundingPoly': {'vertices': [{'x': 344.0, 'y': 1248.0}, {'x': 535.0, 'y': 1248.0}, {'x': 535.0, 'y': 1285.0}, {'x': 344.0, 'y': 1285.0}]}, 'inferText': 'UNOSPAY>Tel.', 'inferConfidence': 0.9994, 'type': 'NORMAL', 'lineBreak': False}, {'valueType': 'ALL', 'boundingPoly': {'vertices': [{'x': 531.0, 'y': 1245.0}, {'x': 686.0, 'y': 1245.0}, {'x': 686.0, 'y': 1287.0}, {'x': 531.0, 'y': 1287.0}]}, 'inferText': '1800-4520', 'inferConfidence': 0.9998, 'type': 'NORMAL', 'lineBreak': True}]}]}\n",
      "predictions 512 [3, 0, 0, 0, 0, 0, 0, 0, 0, 0, 0, 0, 0, 0, 0, 0, 0, 0, 0, 0, 0, 0, 0, 0, 0, 0, 0, 0, 0, 0, 0, 0, 0, 0, 0, 0, 0, 0, 0, 0, 0, 0, 0, 0, 0, 0, 0, 0, 0, 0, 0, 0, 0, 0, 0, 0, 0, 0, 0, 0, 0, 0, 0, 0, 0, 0, 0, 0, 0, 0, 0, 0, 0, 0, 0, 0, 0, 0, 0, 0, 0, 0, 0, 0, 0, 0, 0, 0, 0, 0, 0, 0, 0, 0, 0, 0, 0, 0, 0, 0, 0, 0, 0, 0, 0, 0, 0, 0, 0, 0, 0, 0, 0, 0, 0, 0, 0, 0, 0, 0, 0, 0, 0, 0, 0, 0, 0, 0, 0, 0, 0, 0, 0, 0, 0, 0, 0, 0, 0, 0, 0, 0, 0, 0, 0, 0, 0, 0, 0, 0, 0, 0, 0, 0, 0, 0, 0, 0, 0, 0, 0, 0, 0, 0, 0, 0, 0, 0, 0, 0, 0, 0, 0, 0, 0, 0, 0, 0, 0, 0, 0, 0, 0, 0, 0, 0, 0, 0, 0, 0, 0, 0, 0, 0, 0, 0, 0, 0, 0, 0, 0, 0, 3, 0, 0, 0, 0, 0, 0, 0, 0, 0, 0, 0, 0, 0, 0, 0, 0, 0, 0, 0, 0, 0, 0, 0, 0, 0, 0, 0, 0, 0, 0, 0, 0, 0, 0, 0, 0, 0, 0, 0, 0, 0, 0, 0, 0, 0, 0, 0, 0, 0, 0, 0, 0, 0, 0, 0, 0, 0, 0, 0, 0, 0, 0, 0, 0, 0, 0, 0, 0, 0, 0, 2, 0, 0, 0, 0, 0, 0, 0, 0, 0, 0, 0, 0, 0, 0, 0, 0, 0, 0, 0, 0, 0, 0, 0, 0, 0, 0, 0, 0, 2, 0, 0, 0, 0, 0, 0, 0, 0, 0, 0, 0, 0, 0, 0, 2, 0, 0, 0, 0, 0, 0, 0, 0, 0, 0, 0, 0, 0, 0, 0, 0, 0, 0, 0, 0, 0, 0, 0, 0, 0, 0, 0, 0, 0, 0, 0, 0, 0, 0, 0, 0, 0, 0, 0, 0, 0, 0, 0, 0, 0, 0, 0, 0, 0, 0, 0, 0, 0, 0, 0, 0, 0, 0, 0, 0, 0, 0, 0, 0, 0, 0, 0, 0, 0, 0, 0, 0, 0, 0, 0, 0, 0, 0, 0, 0, 0, 0, 0, 0, 0, 0, 3, 0, 0, 0, 0, 0, 0, 0, 0, 0, 0, 0, 0, 0, 0, 0, 0, 0, 0, 0, 0, 0, 0, 0, 0, 0, 0, 0, 0, 0, 0, 0, 0, 0, 0, 0, 0, 0, 0, 0, 0, 0, 0, 0, 0, 0, 0, 0, 0, 0, 0, 0, 0, 0, 0, 0, 0, 0, 0, 0, 0, 0, 0, 0, 0, 0, 0, 0, 0, 0, 0, 0, 0, 0, 0, 0, 0, 0, 0, 0, 0, 0, 0, 0, 0, 0, 0, 0, 0, 0, 0, 0, 0, 0, 0, 0, 0, 0, 0, 0, 0, 0, 0, 0, 0, 0, 0, 0]\n",
      "98 ['others', 'others', 'others', 'others', 'others', 'others', 'others', 'others', 'others', 'others', 'others', 'others', 'others', 'others', 'others', 'others', 'others', 'others', 'others', 'others', 'others', 'others', 'others', 'others', 'others', 'others', 'others', 'others', 'others', 'others', 'others', 'others', 'others', 'others', 'others', 'others', 'others', 'others', 'others', 'others', 'others', 'others', 'others', 'others', 'others', 'others', 'others', 'others', 'others', 'others', 'others', 'others', 'others', 'others', 'others', 'others', 'others', 'others', 'others', 'others', 'others', 'others', 'others', 'others', 'value', 'others', 'others', 'others', 'others', 'others', 'others', 'others', 'others', 'others', 'others', 'others', 'others', 'others', 'others', 'others', 'others', 'others', 'others', 'others', 'others', 'others', 'others', 'others', 'others', 'others', 'others', 'others', 'others', 'others', 'others', 'others', 'others', 'others']\n"
     ]
    },
    {
     "name": "stderr",
     "output_type": "stream",
     "text": [
      "/usr/anaconda3/envs/cloudcomputing/lib/python3.10/site-packages/transformers/modeling_utils.py:763: FutureWarning: The `device` argument is deprecated and will be removed in v5 of Transformers.\n",
      "  warnings.warn(\n"
     ]
    }
   ],
   "source": [
    "image_name='train50.jpeg'\n",
    "model_name='layoutlmv3'\n",
    "\n",
    "\n",
    "image_path=os.path.join('/home/guest/ML/code/predict_data/',image_name)\n",
    "model_path=os.path.join('/home/guest/ML/code/',model_name)\n",
    "\n",
    "\n",
    "img=Image.open(image_path).convert('RGB')\n",
    "\n",
    "predicter = Predict(model_path,img)\n",
    "\n",
    "\n",
    "preprocess_data=predicter.predict_preprocess()\n",
    "predicter.predict(preprocess_data)\n"
   ]
  },
  {
   "cell_type": "code",
   "execution_count": null,
   "metadata": {},
   "outputs": [],
   "source": []
  }
 ],
 "metadata": {
  "colab": {
   "provenance": []
  },
  "kernelspec": {
   "display_name": "Python 3 (ipykernel)",
   "language": "python",
   "name": "python3"
  },
  "language_info": {
   "codemirror_mode": {
    "name": "ipython",
    "version": 3
   },
   "file_extension": ".py",
   "mimetype": "text/x-python",
   "name": "python",
   "nbconvert_exporter": "python",
   "pygments_lexer": "ipython3",
   "version": "3.10.10"
  }
 },
 "nbformat": 4,
 "nbformat_minor": 1
}
